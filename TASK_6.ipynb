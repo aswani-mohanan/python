{
  "nbformat": 4,
  "nbformat_minor": 0,
  "metadata": {
    "colab": {
      "name": "TASK 6.ipynb",
      "provenance": [],
      "include_colab_link": true
    },
    "kernelspec": {
      "name": "python3",
      "display_name": "Python 3"
    },
    "language_info": {
      "name": "python"
    }
  },
  "cells": [
    {
      "cell_type": "markdown",
      "metadata": {
        "id": "view-in-github",
        "colab_type": "text"
      },
      "source": [
        "<a href=\"https://colab.research.google.com/github/aswani-mohanan/python/blob/main/TASK_6.ipynb\" target=\"_parent\"><img src=\"https://colab.research.google.com/assets/colab-badge.svg\" alt=\"Open In Colab\"/></a>"
      ]
    },
    {
      "cell_type": "markdown",
      "metadata": {
        "id": "2aT_QhgIny6V"
      },
      "source": [
        "1. Write a Python program to find those numbers which are divisible by 7 and multiple of 11, between 11000 and 2000 (both included)."
      ]
    },
    {
      "cell_type": "code",
      "metadata": {
        "id": "KlFG2BFZoEEU"
      },
      "source": [
        "#please enter your answer below this line\n",
        "range = [2000,11000]\n",
        "for i in range:\n",
        "    if  i%7==0 and  i%5==0:\n",
        "        print(i)"
      ],
      "execution_count": null,
      "outputs": []
    },
    {
      "cell_type": "markdown",
      "metadata": {
        "id": "ZesHXUMboLu7"
      },
      "source": [
        "2. Write a program to print this pattern\n",
        "\n",
        "           #\n",
        "          ## \n",
        "         ###"
      ]
    },
    {
      "cell_type": "code",
      "metadata": {
        "id": "64-aUjWbohqz"
      },
      "source": [
        "#please enter your answer below this line\n",
        "\n",
        "def pypart2(n):\n",
        "\t\n",
        "\t\n",
        "\tk = 2*n - 2\n",
        "\n",
        "\t\n",
        "\tfor i in range(0, n):\n",
        "\t\n",
        "\t\tfor j in range(0, k):\n",
        "\t\t\tprint(end=\" \")\n",
        "\t\n",
        "\t\t\n",
        "\t\tk = k - 2\n",
        "\t\n",
        "\t\t\n",
        "\t\tfor j in range(0, i+1):\n",
        "\t\t\n",
        "\t\t\n",
        "\t\t\tprint(\"#\", end=\"\")\n",
        "\t\n",
        "\t\t\n",
        "\t\tprint(\"\\r\")\n",
        "\n",
        "\n",
        "n = 3\n",
        "pypart2(n)\n",
        "\n"
      ],
      "execution_count": null,
      "outputs": []
    },
    {
      "cell_type": "markdown",
      "metadata": {
        "id": "6ZepaaI-ow6W"
      },
      "source": [
        "3. list=[apple, orange, apple, banana]\n",
        ". Replace all the apple in the list with grapes using for loop"
      ]
    },
    {
      "cell_type": "code",
      "metadata": {
        "id": "D7UOyf_6o6Ax"
      },
      "source": [
        "#please enter your answer below this line\n",
        "my_list =   ['apple', 'orange', 'apple', 'banana']  \n",
        "print(my_list)\n",
        "for i in range(len(my_list)):\n",
        "    if my_list[i] == 'apple':\n",
        "     my_list[i] = 'grapes'  \n",
        "print(my_list)"
      ],
      "execution_count": null,
      "outputs": []
    }
  ]
}