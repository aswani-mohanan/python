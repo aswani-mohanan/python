{
  "nbformat": 4,
  "nbformat_minor": 0,
  "metadata": {
    "colab": {
      "name": "TASK 10.ipynb",
      "provenance": [],
      "include_colab_link": true
    },
    "kernelspec": {
      "name": "python3",
      "display_name": "Python 3"
    },
    "language_info": {
      "name": "python"
    }
  },
  "cells": [
    {
      "cell_type": "markdown",
      "metadata": {
        "id": "view-in-github",
        "colab_type": "text"
      },
      "source": [
        "<a href=\"https://colab.research.google.com/github/aswani-mohanan/python/blob/main/TASK_10.ipynb\" target=\"_parent\"><img src=\"https://colab.research.google.com/assets/colab-badge.svg\" alt=\"Open In Colab\"/></a>"
      ]
    },
    {
      "cell_type": "markdown",
      "metadata": {
        "id": "VHKxwUewxOi2"
      },
      "source": [
        "1. Generate two  3 x 3 matrix and find it's dot product and take the transpose of the answer."
      ]
    },
    {
      "cell_type": "code",
      "metadata": {
        "id": "RdyKd1CAxZtR"
      },
      "source": [
        "#please provide your answer below this line.\n",
        "import numpy as np\n",
        "arr1 = np.array([[1, 2, 3], [4, 5, 6], [7, 8, 9]])\n",
        "arr2 = np.array([[7, 8, 9], [10, 11, 12], [13, 14, 15]])\n",
        "print(\"first array is:\")\n",
        "print( arr1)\n",
        "print(\"second arry is:\")\n",
        "print(arr2)\n",
        "print(\"the dot product is:\")\n",
        "dot=np.dot(arr1, arr2)\n",
        "print(dot)\n",
        "print(\"the transpose is:\")\n",
        "tp=np.transpose(dot)\n",
        "print(tp)\n"
      ],
      "execution_count": null,
      "outputs": []
    },
    {
      "cell_type": "markdown",
      "metadata": {
        "id": "9c9ZwiBxxf4t"
      },
      "source": [
        "2. Create a 3x3 matrix with elements [55,25,15], [30,44,2], [11,45,77] . Now find the determinant of the given matrix."
      ]
    },
    {
      "cell_type": "code",
      "metadata": {
        "id": "Anmr3C9KyNyy"
      },
      "source": [
        "#please provide your answer below this line.\n",
        "import numpy as np\n",
        "print(\"the matrix is:\")\n",
        "arr = np.array([[55, 25, 15], [30, 44, 2], [11, 45, 77]])\n",
        "print(arr)\n",
        "print(\"the determinant is:\")\n",
        "det=np.linalg.det(arr)\n",
        "print(det)\n"
      ],
      "execution_count": null,
      "outputs": []
    }
  ]
}