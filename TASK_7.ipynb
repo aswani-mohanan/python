{
  "nbformat": 4,
  "nbformat_minor": 0,
  "metadata": {
    "colab": {
      "name": "TASK  7.ipynb",
      "provenance": [],
      "include_colab_link": true
    },
    "kernelspec": {
      "name": "python3",
      "display_name": "Python 3"
    },
    "language_info": {
      "name": "python"
    }
  },
  "cells": [
    {
      "cell_type": "markdown",
      "metadata": {
        "id": "view-in-github",
        "colab_type": "text"
      },
      "source": [
        "<a href=\"https://colab.research.google.com/github/aswani-mohanan/python/blob/main/TASK_7.ipynb\" target=\"_parent\"><img src=\"https://colab.research.google.com/assets/colab-badge.svg\" alt=\"Open In Colab\"/></a>"
      ]
    },
    {
      "cell_type": "markdown",
      "metadata": {
        "id": "b0V3vwzcydKy"
      },
      "source": [
        "1. Write a program to check whether a  string is palindrome or not using functions. \n",
        "\n",
        "   ( A function is to be created to check whether the string is palindrome and it should give the output true or false to the main program)"
      ]
    },
    {
      "cell_type": "code",
      "metadata": {
        "id": "M2Mi7EOdyxiu"
      },
      "source": [
        "#please enter the code below this line.\n",
        "def isPalindrome(s):\n",
        "\treturn s == s[::-1]\n",
        "s = \"MALAYALAM\"\n",
        "ans = isPalindrome(s)\n",
        "\n",
        "if ans:\n",
        "\tprint(\"Yes\")\n",
        "else:\n",
        "\tprint(\"No\")\n"
      ],
      "execution_count": null,
      "outputs": []
    },
    {
      "cell_type": "markdown",
      "metadata": {
        "id": "vSiShTyOzEz-"
      },
      "source": [
        "2.  Write a menu driven program to find largest element in L, smallest element, avg of all values, sum of all values in L. All these operation should be performed in different functions and the result should be returned.\n",
        "\n",
        "\n",
        "      L=[23,24,11,90,1,41,9,99,28,56,72]"
      ]
    },
    {
      "cell_type": "code",
      "metadata": {
        "id": "fRtMIw_CzsmO"
      },
      "source": [
        "#please enter the code below this line.\n",
        "L = [23,24,11,90,1,41,9,99,28,56,72]\n",
        "print (L)\n",
        "def Max(g):\n",
        "    \n",
        "    \n",
        "    return g\n",
        "def Min(l):  \n",
        "    \n",
        "    \n",
        "    return l\n",
        "def Sum(s):  \n",
        "    \n",
        "    \n",
        "    return s\n",
        "def Average(avg):  \n",
        "    \n",
        "  \n",
        "    return avg\n",
        "    \n",
        "while True:  \n",
        "   \n",
        "    print(\"\\n MENU\")  \n",
        "    print(\"1. largest of the list\")  \n",
        "    print(\"2. smallest of the list\")  \n",
        "    print(\"3. sum of the list\")  \n",
        "    print(\"4. average of the list\")  \n",
        "    print(\"5. Exit\")  \n",
        "    choice = int(input(\"\\nEnter the Choice: \"))  \n",
        "  \n",
        "\n",
        "    if choice == 1:\n",
        "        print( \"\\nLARGEST\\n\")\n",
        "        g = max(L)\n",
        "        max(\"g\")\n",
        "        print(g)\n",
        "    elif choice == 2:  \n",
        "        print( \"\\nSMALLEST\\n\")\n",
        "        l = min(L)\n",
        "        min(\"l\")  \n",
        "        print(l)\n",
        "    elif choice == 3:  \n",
        "        print( \"\\nSUM\\n\") \n",
        "        s = sum(L)\n",
        "        Sum(\"s\")\n",
        "        print(s)\n",
        "    elif choice == 4:  \n",
        "        print( \"\\nAVERAGE\\n\")\n",
        "        \n",
        "        avg = sum(L) / len(L)\n",
        "        \n",
        "        Average(\"avg\")\n",
        "        print(avg)\n",
        "    elif choice == 5:  \n",
        "        break  \n",
        "      \n",
        "    else:  \n",
        "        print( \"Please Provide a valid Input!\") \n"
      ],
      "execution_count": null,
      "outputs": []
    }
  ]
}