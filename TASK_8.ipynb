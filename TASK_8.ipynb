{
  "nbformat": 4,
  "nbformat_minor": 0,
  "metadata": {
    "colab": {
      "name": "TASK 8.ipynb",
      "provenance": [],
      "include_colab_link": true
    },
    "kernelspec": {
      "name": "python3",
      "display_name": "Python 3"
    },
    "language_info": {
      "name": "python"
    }
  },
  "cells": [
    {
      "cell_type": "markdown",
      "metadata": {
        "id": "view-in-github",
        "colab_type": "text"
      },
      "source": [
        "<a href=\"https://colab.research.google.com/github/aswani-mohanan/python/blob/main/TASK_8.ipynb\" target=\"_parent\"><img src=\"https://colab.research.google.com/assets/colab-badge.svg\" alt=\"Open In Colab\"/></a>"
      ]
    },
    {
      "cell_type": "markdown",
      "metadata": {
        "id": "slsGswYbJSo7"
      },
      "source": [
        "1. Generate a 3 x 3 matrix using random module."
      ]
    },
    {
      "cell_type": "code",
      "metadata": {
        "id": "GGRQSYyNJW9t"
      },
      "source": [
        "#please provide your answer below this line.\n",
        "import numpy as np\n",
        "B = np.random.random((3, 3)) \n",
        "C = np.matrix(B)\n",
        "print(C)\n"
      ],
      "execution_count": null,
      "outputs": []
    },
    {
      "cell_type": "markdown",
      "metadata": {
        "id": "4OB9KFX6JfYA"
      },
      "source": [
        "2. Generate two 4 x 4 matrix using numpy and \n",
        "\n",
        " a) Reshape it to 2 x 8matrix and vertically stack it.\n",
        "\n",
        " b) Reshape it to 2 x 8 matrix and horizontally stack it."
      ]
    },
    {
      "cell_type": "code",
      "metadata": {
        "id": "VoIqYeNWJ4H_"
      },
      "source": [
        "#please provide your answer below this line.\n",
        "import numpy as np\n",
        "print (\"Matrix1\")\n",
        "\n",
        "a = np.array([[1, 2, 3, 4], [5, 6, 7, 8], [9, 10, 11, 12], [13, 14,15,16]])\n",
        "\n",
        "b = np.array([[17, 18, 19, 20], [21, 22, 23, 24], [25, 26, 27, 28], [29, 30,31,32]])\n",
        "\n",
        "print (a)\n",
        "print (\"Matrix2\")\n",
        "print (b)\n",
        "a = np.arange(16).reshape((2, 8))\n",
        "b = np.arange(17,33).reshape((2, 8))\n",
        "print(\"Matrix1 after reshape\")\n",
        "print(a)\n",
        "print(\"Matrix2 after reshape\")\n",
        "print(b)\n",
        "\n",
        "va=np.vstack((a,b))\n",
        "ha=np.hstack((a,b))\n",
        "print(\"vertical stack\")\n",
        "print(va)\n",
        "print(\"horizontal stack\")\n",
        "print(ha)\n",
        "\n"
      ],
      "execution_count": null,
      "outputs": []
    }
  ]
}